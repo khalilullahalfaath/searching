{
 "cells": [
  {
   "cell_type": "raw",
   "id": "13cedf98",
   "metadata": {
    "vscode": {
     "languageId": "raw"
    }
   },
   "source": [
    "#Pseudocode dari Buku Grokking Artifical Intelligence Algorithms\n",
    "\n",
    "def run_astar(maze, root_point, visited_points:\n",
    "    let s equal a new stack\n",
    "    add root_point to s\n",
    "    while s is not empty:\n",
    "        pop s and let current_point equal the returned point\n",
    "        if current_point is not visited:\n",
    "            mark current_point as visited\n",
    "            if value at current_node is the goal\n",
    "                return path using current_point\n",
    "            else:\n",
    "                add available cells north, east, south, and west to a list neighbors\n",
    "                for each neighbor in neighbors:\n",
    "                    set neighbor parent as current_point\n",
    "                    set neighbor cost as calculate_cost(current_point, neighbor)\n",
    "                    push neighbor to s\n",
    "                sort s by cost ascending\n",
    "    return \"No path to goal\"\n",
    "\n",
    "def calculate_cost(origin, target):\n",
    "    let distance_to_root equal length of path from origin to target\n",
    "    let cost_to_move equal get_move_cost(origin, target)\n",
    "    return distance_to_root + cost_to_move\n",
    "\n",
    "def get_move_cost(origin, target):\n",
    "    if target is north or south of origin:\n",
    "        return 5\n",
    "    else:\n",
    "        return 1"
   ]
  },
  {
   "cell_type": "code",
   "execution_count": 7,
   "id": "fb3b7cbb",
   "metadata": {},
   "outputs": [],
   "source": [
    "import heapq\n",
    "\n",
    "def run_astar(maze, root_point, goal):\n",
    "    rows, cols = len(maze), len(maze[0])\n",
    "    visited = set()\n",
    "    parent = {}\n",
    "    costs = {root_point: 0}\n",
    "\n",
    "    # priority queue\n",
    "    s = []\n",
    "    heapq.heappush(s, (0, root_point))\n",
    "\n",
    "    while s:\n",
    "        current_cost, current_point = heapq.heappop(s)\n",
    "\n",
    "        if current_point in visited:\n",
    "            continue\n",
    "        visited.add(current_point)\n",
    "\n",
    "        # Pengecekan goal\n",
    "        if current_point == goal:\n",
    "            # reconstruct path\n",
    "            path = []\n",
    "            while current_point in parent:\n",
    "                path.append(current_point)\n",
    "                current_point = parent[current_point]\n",
    "            path.append(root_point)\n",
    "            return path[::-1]\n",
    "\n",
    "        # neighbors: Utara, Timur, Selatan, Barat\n",
    "        for dx, dy in [(-1,0),(0,1),(1,0),(0,-1)]:\n",
    "            nx, ny = current_point[0] + dx, current_point[1] + dy\n",
    "            if 0 <= nx < rows and 0 <= ny < cols and maze[nx][ny] == 0:\n",
    "                neighbor = (nx, ny)\n",
    "                move_cost = get_move_cost(current_point, neighbor)\n",
    "                tentative_cost = costs[current_point] + move_cost\n",
    "\n",
    "                if neighbor not in costs or tentative_cost < costs[neighbor]:\n",
    "                    parent[neighbor] = current_point\n",
    "                    costs[neighbor] = tentative_cost\n",
    "                    heapq.heappush(s, (tentative_cost, neighbor))\n",
    "\n",
    "    return \"Tidak ada jalur ke tujuan\"\n",
    "\n",
    "def get_move_cost(origin, target):\n",
    "    # origin=(x1,y1), target=(x2,y2)\n",
    "    if origin[0] != target[0]:  # bergerak vertikal (north/south)\n",
    "        return 5\n",
    "    else:                       # bergerak horizontal (east/west)\n",
    "        return 1\n"
   ]
  },
  {
   "cell_type": "markdown",
   "id": "60dd13d5",
   "metadata": {},
   "source": [
    "### Eksperimen 1: Tidak ada rintangan"
   ]
  },
  {
   "cell_type": "code",
   "execution_count": 8,
   "id": "da1ffcfd",
   "metadata": {},
   "outputs": [
    {
     "name": "stdout",
     "output_type": "stream",
     "text": [
      "Path: [(0, 0), (0, 1), (0, 2), (0, 3), (0, 4), (1, 4), (2, 4), (3, 4), (4, 4)]\n"
     ]
    }
   ],
   "source": [
    "maze = [\n",
    "    [0,0,0,0,0],\n",
    "    [0,0,0,0,0],\n",
    "    [0,0,0,0,0],\n",
    "    [0,0,0,0,0],\n",
    "    [0,0,0,0,0]\n",
    "]\n",
    "\n",
    "start = (0,0)\n",
    "goal = (4,4)\n",
    "\n",
    "path = run_astar(maze, start, goal)\n",
    "print(\"Path:\", path)"
   ]
  },
  {
   "cell_type": "markdown",
   "id": "e3b67850",
   "metadata": {},
   "source": [
    "### Eksperimen 2: Semuanya adalah rintangan"
   ]
  },
  {
   "cell_type": "code",
   "execution_count": 11,
   "id": "7f9447f7",
   "metadata": {},
   "outputs": [
    {
     "name": "stdout",
     "output_type": "stream",
     "text": [
      "Path: Tidak ada jalur ke tujuan\n"
     ]
    }
   ],
   "source": [
    "maze = [\n",
    "    [0,1,1,1,1],\n",
    "    [1,1,1,1,1],\n",
    "    [1,1,1,1,1],\n",
    "    [1,1,1,1,1],\n",
    "    [1,1,1,1,0]\n",
    "]\n",
    "\n",
    "start = (0,0)\n",
    "goal = (4,4)\n",
    "\n",
    "path = run_astar(maze, start, goal)\n",
    "print(\"Path:\", path)"
   ]
  },
  {
   "cell_type": "markdown",
   "id": "53f66452",
   "metadata": {},
   "source": [
    "### eksperimen 3: Rintangan acak mengelilingi tengah"
   ]
  },
  {
   "cell_type": "code",
   "execution_count": 10,
   "id": "ac96644f",
   "metadata": {},
   "outputs": [
    {
     "name": "stdout",
     "output_type": "stream",
     "text": [
      "Path: [(0, 0), (0, 1), (0, 2), (1, 2), (2, 2), (2, 1), (2, 0), (3, 0), (4, 0), (4, 1), (4, 2), (4, 3), (4, 4)]\n"
     ]
    }
   ],
   "source": [
    "maze = [\n",
    "    [0,0,0,0,0],\n",
    "    [1,1,0,1,0],\n",
    "    [0,0,0,1,1],\n",
    "    [0,1,1,1,0],\n",
    "    [0,0,0,0,0]\n",
    "]\n",
    "\n",
    "start = (0,0)\n",
    "goal = (4,4)\n",
    "\n",
    "path = run_astar(maze, start, goal)\n",
    "print(\"Path:\", path)\n"
   ]
  }
 ],
 "metadata": {
  "kernelspec": {
   "display_name": "env (3.12.2)",
   "language": "python",
   "name": "python3"
  },
  "language_info": {
   "codemirror_mode": {
    "name": "ipython",
    "version": 3
   },
   "file_extension": ".py",
   "mimetype": "text/x-python",
   "name": "python",
   "nbconvert_exporter": "python",
   "pygments_lexer": "ipython3",
   "version": "3.12.2"
  }
 },
 "nbformat": 4,
 "nbformat_minor": 5
}
